{
 "cells": [
  {
   "cell_type": "code",
   "execution_count": 1,
   "id": "912aa1ac",
   "metadata": {},
   "outputs": [],
   "source": [
    "import warnings\n",
    "warnings.filterwarnings('ignore')\n",
    "import pandas as pd\n",
    "import numpy as np"
   ]
  },
  {
   "cell_type": "code",
   "execution_count": 2,
   "id": "afabd022",
   "metadata": {},
   "outputs": [],
   "source": [
    "datafile_train=\"C:/proj3/counterfeit_train.csv\"\n",
    "datafile_test=\"C:/proj3/counterfeit_test.csv\"\n",
    "bd_train=pd.read_csv(datafile_train)\n",
    "bd_test=pd.read_csv(datafile_test)"
   ]
  },
  {
   "cell_type": "code",
   "execution_count": 3,
   "id": "d7eb6d8e",
   "metadata": {},
   "outputs": [],
   "source": [
    "ld_test=bd_test.copy()"
   ]
  },
  {
   "cell_type": "code",
   "execution_count": 4,
   "id": "36d63b41",
   "metadata": {},
   "outputs": [
    {
     "data": {
      "text/plain": [
       "Medicine_ID               0\n",
       "Counterfeit_Weight     1166\n",
       "DistArea_ID               0\n",
       "Active_Since              0\n",
       "Medicine_MRP              0\n",
       "Medicine_Type             0\n",
       "SidEffect_Level           0\n",
       "Availability_rating       0\n",
       "Area_Type                 0\n",
       "Area_City_Type            0\n",
       "Area_dist_level           0\n",
       "Counterfeit_Sales         0\n",
       "dtype: int64"
      ]
     },
     "execution_count": 4,
     "metadata": {},
     "output_type": "execute_result"
    }
   ],
   "source": [
    "bd_train.isnull().sum()"
   ]
  },
  {
   "cell_type": "code",
   "execution_count": 5,
   "id": "812a98e5",
   "metadata": {},
   "outputs": [
    {
     "data": {
      "text/plain": [
       "0       13.100\n",
       "1          NaN\n",
       "2        9.025\n",
       "3       11.800\n",
       "4          NaN\n",
       "         ...  \n",
       "6813     8.535\n",
       "6814    20.650\n",
       "6815    20.000\n",
       "6816    10.180\n",
       "6817     7.930\n",
       "Name: Counterfeit_Weight, Length: 6818, dtype: float64"
      ]
     },
     "execution_count": 5,
     "metadata": {},
     "output_type": "execute_result"
    }
   ],
   "source": [
    "bd_train['Counterfeit_Weight']"
   ]
  },
  {
   "cell_type": "code",
   "execution_count": null,
   "id": "bc0c6304",
   "metadata": {},
   "outputs": [],
   "source": [
    "\n",
    "\n",
    "\n",
    "\n",
    "\n"
   ]
  },
  {
   "cell_type": "code",
   "execution_count": 6,
   "id": "23ef0cf9",
   "metadata": {},
   "outputs": [
    {
     "data": {
      "text/plain": [
       "(6818, 12)"
      ]
     },
     "execution_count": 6,
     "metadata": {},
     "output_type": "execute_result"
    }
   ],
   "source": [
    "bd_train.shape"
   ]
  },
  {
   "cell_type": "code",
   "execution_count": 7,
   "id": "0c8a94f4",
   "metadata": {},
   "outputs": [
    {
     "data": {
      "text/plain": [
       "Index(['Medicine_ID', 'Counterfeit_Weight', 'DistArea_ID', 'Active_Since',\n",
       "       'Medicine_MRP', 'Medicine_Type', 'SidEffect_Level',\n",
       "       'Availability_rating', 'Area_Type', 'Area_City_Type', 'Area_dist_level',\n",
       "       'Counterfeit_Sales'],\n",
       "      dtype='object')"
      ]
     },
     "execution_count": 7,
     "metadata": {},
     "output_type": "execute_result"
    }
   ],
   "source": [
    "bd_train.columns"
   ]
  },
  {
   "cell_type": "code",
   "execution_count": 8,
   "id": "391b15bb",
   "metadata": {},
   "outputs": [
    {
     "data": {
      "text/plain": [
       "16"
      ]
     },
     "execution_count": 8,
     "metadata": {},
     "output_type": "execute_result"
    }
   ],
   "source": [
    "bd_train['Medicine_Type'].nunique()"
   ]
  },
  {
   "cell_type": "code",
   "execution_count": 9,
   "id": "27a5b35b",
   "metadata": {},
   "outputs": [
    {
     "data": {
      "text/plain": [
       "Hreplacements         976\n",
       "Antibiotics           970\n",
       "Antiseptics           724\n",
       "OralContraceptives    694\n",
       "Antipyretics          536\n",
       "Cardiac               522\n",
       "Mstablizers           514\n",
       "Tranquilizers         420\n",
       "Analgesics            356\n",
       "Antimalarial          339\n",
       "Antacids              206\n",
       "Statins               167\n",
       "MuscleRelaxants       139\n",
       "Antifungal            111\n",
       "Stimulants             95\n",
       "Antiviral              49\n",
       "Name: Medicine_Type, dtype: int64"
      ]
     },
     "execution_count": 9,
     "metadata": {},
     "output_type": "execute_result"
    }
   ],
   "source": [
    "bd_train['Medicine_Type'].value_counts()"
   ]
  },
  {
   "cell_type": "code",
   "execution_count": 10,
   "id": "d92bb330",
   "metadata": {},
   "outputs": [
    {
     "data": {
      "text/plain": [
       "13.450    72\n",
       "18.900    67\n",
       "13.100    65\n",
       "14.950    55\n",
       "18.000    55\n",
       "          ..\n",
       "8.075      1\n",
       "6.105      1\n",
       "8.905      1\n",
       "8.575      1\n",
       "7.820      1\n",
       "Name: Counterfeit_Weight, Length: 414, dtype: int64"
      ]
     },
     "execution_count": 10,
     "metadata": {},
     "output_type": "execute_result"
    }
   ],
   "source": [
    "bd_train['Counterfeit_Weight'].value_counts()"
   ]
  },
  {
   "cell_type": "code",
   "execution_count": 11,
   "id": "014a6e54",
   "metadata": {},
   "outputs": [
    {
     "data": {
      "text/plain": [
       "DownTown              4481\n",
       "MidTownResidential     873\n",
       "CityLimits             735\n",
       "Industrial             729\n",
       "Name: Area_Type, dtype: int64"
      ]
     },
     "execution_count": 11,
     "metadata": {},
     "output_type": "execute_result"
    }
   ],
   "source": [
    "bd_train['Area_Type'].value_counts()"
   ]
  },
  {
   "cell_type": "code",
   "execution_count": 12,
   "id": "c3436855",
   "metadata": {},
   "outputs": [
    {
     "data": {
      "text/plain": [
       "1455.2528    16\n",
       "1071.7520    14\n",
       "816.0848     13\n",
       "1391.3360    13\n",
       "1958.5976    12\n",
       "             ..\n",
       "2529.1882     1\n",
       "4920.7418     1\n",
       "2531.1856     1\n",
       "1946.6132     1\n",
       "1599.0656     1\n",
       "Name: Counterfeit_Sales, Length: 3142, dtype: int64"
      ]
     },
     "execution_count": 12,
     "metadata": {},
     "output_type": "execute_result"
    }
   ],
   "source": [
    "bd_train['Counterfeit_Sales'].value_counts()"
   ]
  },
  {
   "cell_type": "code",
   "execution_count": 13,
   "id": "05121241",
   "metadata": {},
   "outputs": [
    {
     "data": {
      "text/plain": [
       "152.3154    6\n",
       "137.4020    5\n",
       "180.8422    5\n",
       "59.1376     5\n",
       "182.3422    5\n",
       "           ..\n",
       "93.0566     1\n",
       "197.4240    1\n",
       "71.5878     1\n",
       "55.6060     1\n",
       "265.6988    1\n",
       "Name: Medicine_MRP, Length: 5097, dtype: int64"
      ]
     },
     "execution_count": 13,
     "metadata": {},
     "output_type": "execute_result"
    }
   ],
   "source": [
    "bd_train['Medicine_MRP'].value_counts()"
   ]
  },
  {
   "cell_type": "code",
   "execution_count": 14,
   "id": "51600e7e",
   "metadata": {},
   "outputs": [],
   "source": [
    "pd.set_option('display.max_columns', 500)\n",
    "pd.set_option('display.max_rows', 500)"
   ]
  },
  {
   "cell_type": "code",
   "execution_count": 15,
   "id": "37fa5609",
   "metadata": {},
   "outputs": [
    {
     "data": {
      "text/plain": [
       "152.3154    6\n",
       "137.4020    5\n",
       "180.8422    5\n",
       "59.1376     5\n",
       "182.3422    5\n",
       "           ..\n",
       "93.0566     1\n",
       "197.4240    1\n",
       "71.5878     1\n",
       "55.6060     1\n",
       "265.6988    1\n",
       "Name: Medicine_MRP, Length: 5097, dtype: int64"
      ]
     },
     "execution_count": 15,
     "metadata": {},
     "output_type": "execute_result"
    }
   ],
   "source": [
    "bd_train['Medicine_MRP'].value_counts()"
   ]
  },
  {
   "cell_type": "code",
   "execution_count": 16,
   "id": "f28d6aba",
   "metadata": {},
   "outputs": [],
   "source": [
    "from sklearn.pipeline import Pipeline,FeatureUnion\n",
    "from sklearn.base import BaseEstimator, TransformerMixin\n",
    "from mypipes import *\n",
    "\n",
    "p1=pdPipeline([\n",
    "    ('c_w',VarSelector(['Counterfeit_Weight'])),\n",
    "    ('missing_trt',DataFrameImputer())\n",
    "])\n",
    "\n",
    "p2=pdPipeline([\n",
    "    ('dummies',VarSelector(['Medicine_Type','SidEffect_Level','Area_Type','Area_City_Type','Area_dist_level',\"DistArea_ID\"])),\n",
    "    ('convert_to_dummies',get_dummies_Pipe())   \n",
    "])\n",
    "\n",
    "\n",
    "\n",
    "             \n",
    "data_pipe=FeatureUnion([\n",
    "    ('p1',p1),\n",
    "    ('p2',p2)\n",
    "])"
   ]
  },
  {
   "cell_type": "code",
   "execution_count": 17,
   "id": "f185f9e1",
   "metadata": {},
   "outputs": [
    {
     "data": {
      "text/plain": [
       "FeatureUnion(transformer_list=[('p1',\n",
       "                                pdPipeline(steps=[('c_w',\n",
       "                                                   VarSelector(feature_names=['Counterfeit_Weight'])),\n",
       "                                                  ('missing_trt',\n",
       "                                                   DataFrameImputer())])),\n",
       "                               ('p2',\n",
       "                                pdPipeline(steps=[('dummies',\n",
       "                                                   VarSelector(feature_names=['Medicine_Type',\n",
       "                                                                              'SidEffect_Level',\n",
       "                                                                              'Area_Type',\n",
       "                                                                              'Area_City_Type',\n",
       "                                                                              'Area_dist_level',\n",
       "                                                                              'DistArea_ID'])),\n",
       "                                                  ('convert_to_dummies',\n",
       "                                                   get_dummies_Pipe())]))])"
      ]
     },
     "execution_count": 17,
     "metadata": {},
     "output_type": "execute_result"
    }
   ],
   "source": [
    "data_pipe.fit(bd_train)"
   ]
  },
  {
   "cell_type": "code",
   "execution_count": 18,
   "id": "70dda675",
   "metadata": {},
   "outputs": [],
   "source": [
    "x_train=pd.DataFrame(data_pipe.transform(bd_train))"
   ]
  },
  {
   "cell_type": "code",
   "execution_count": 19,
   "id": "4070494c",
   "metadata": {},
   "outputs": [
    {
     "data": {
      "text/plain": [
       "0     float64\n",
       "1     float64\n",
       "2     float64\n",
       "3     float64\n",
       "4     float64\n",
       "5     float64\n",
       "6     float64\n",
       "7     float64\n",
       "8     float64\n",
       "9     float64\n",
       "10    float64\n",
       "11    float64\n",
       "12    float64\n",
       "13    float64\n",
       "14    float64\n",
       "15    float64\n",
       "16    float64\n",
       "17    float64\n",
       "18    float64\n",
       "19    float64\n",
       "20    float64\n",
       "21    float64\n",
       "22    float64\n",
       "23    float64\n",
       "24    float64\n",
       "25    float64\n",
       "26    float64\n",
       "27    float64\n",
       "28    float64\n",
       "29    float64\n",
       "30    float64\n",
       "31    float64\n",
       "32    float64\n",
       "33    float64\n",
       "dtype: object"
      ]
     },
     "execution_count": 19,
     "metadata": {},
     "output_type": "execute_result"
    }
   ],
   "source": [
    "x_train.dtypes"
   ]
  },
  {
   "cell_type": "code",
   "execution_count": null,
   "id": "1ed043ce",
   "metadata": {},
   "outputs": [],
   "source": [
    "bd_train.columns"
   ]
  },
  {
   "cell_type": "code",
   "execution_count": 21,
   "id": "39d43763",
   "metadata": {},
   "outputs": [],
   "source": [
    "bd_train.drop(['Medicine_Type','SidEffect_Level','Area_Type','Area_City_Type','Area_dist_level',\"DistArea_ID\",'Counterfeit_Weight'],inplace=True,axis=1)"
   ]
  },
  {
   "cell_type": "code",
   "execution_count": 22,
   "id": "a8472a22",
   "metadata": {},
   "outputs": [],
   "source": [
    "bd_train=bd_train.join(x_train)"
   ]
  },
  {
   "cell_type": "code",
   "execution_count": 23,
   "id": "e69a154d",
   "metadata": {},
   "outputs": [],
   "source": [
    "target='Counterfeit_Sales'"
   ]
  },
  {
   "cell_type": "code",
   "execution_count": null,
   "id": "034dd05d",
   "metadata": {},
   "outputs": [],
   "source": [
    "bd_test.dtypes"
   ]
  },
  {
   "cell_type": "code",
   "execution_count": 24,
   "id": "51510645",
   "metadata": {},
   "outputs": [],
   "source": [
    "bd_test1=pd.DataFrame(data_pipe.transform(bd_test))"
   ]
  },
  {
   "cell_type": "code",
   "execution_count": null,
   "id": "fff7b7b7",
   "metadata": {},
   "outputs": [],
   "source": [
    "bd_test1.dtypes"
   ]
  },
  {
   "cell_type": "code",
   "execution_count": 25,
   "id": "810999b6",
   "metadata": {},
   "outputs": [],
   "source": [
    "bd_test.drop(['Medicine_Type','SidEffect_Level','Area_Type','Area_City_Type','Area_dist_level',\"DistArea_ID\",'Counterfeit_Weight'],inplace=True,axis=1)"
   ]
  },
  {
   "cell_type": "code",
   "execution_count": 26,
   "id": "0c53bd18",
   "metadata": {},
   "outputs": [],
   "source": [
    "bd_test=bd_test.join(bd_test1)"
   ]
  },
  {
   "cell_type": "code",
   "execution_count": null,
   "id": "e41dd88b",
   "metadata": {},
   "outputs": [],
   "source": [
    "bd_test.dtypes"
   ]
  },
  {
   "cell_type": "code",
   "execution_count": null,
   "id": "72a3f9f2",
   "metadata": {},
   "outputs": [],
   "source": [
    "bd_train.dtypes"
   ]
  },
  {
   "cell_type": "code",
   "execution_count": 27,
   "id": "8b2eb9a3",
   "metadata": {},
   "outputs": [],
   "source": [
    "Id=bd_train['Medicine_ID']"
   ]
  },
  {
   "cell_type": "code",
   "execution_count": null,
   "id": "1a89ab6e",
   "metadata": {},
   "outputs": [],
   "source": [
    "Id"
   ]
  },
  {
   "cell_type": "code",
   "execution_count": null,
   "id": "dfd05111",
   "metadata": {},
   "outputs": [],
   "source": [
    "bd_train.dtypes"
   ]
  },
  {
   "cell_type": "code",
   "execution_count": 28,
   "id": "fadffccd",
   "metadata": {},
   "outputs": [],
   "source": [
    "x_train=bd_train.drop(target,1)\n",
    "y_train=bd_train[target]"
   ]
  },
  {
   "cell_type": "code",
   "execution_count": 29,
   "id": "d44f651b",
   "metadata": {},
   "outputs": [],
   "source": [
    "param_dist = {\"n_estimators\":[50,100,200],\n",
    "              \"bootstrap\": [True, False],\n",
    "              \"max_features\": [2,4,5,6,8],\n",
    "                'max_depth':[None,5,10,15,20,30,50,70],\n",
    "                'min_samples_leaf':[1,2,5,10,15,20], \n",
    "                'min_samples_split':[2,5,10,15,20]\n",
    "                  }"
   ]
  },
  {
   "cell_type": "code",
   "execution_count": 30,
   "id": "36732e88",
   "metadata": {},
   "outputs": [],
   "source": [
    "from sklearn.tree import DecisionTreeRegressor\n",
    "from sklearn.ensemble import RandomForestRegressor\n",
    "from sklearn.ensemble import ExtraTreesRegressor\n",
    "from sklearn.model_selection import RandomizedSearchCV,GridSearchCV\n",
    "from sklearn import tree"
   ]
  },
  {
   "cell_type": "code",
   "execution_count": 31,
   "id": "76033dca",
   "metadata": {},
   "outputs": [],
   "source": [
    "reg=RandomForestRegressor()"
   ]
  },
  {
   "cell_type": "code",
   "execution_count": 33,
   "id": "9b38b1fd",
   "metadata": {},
   "outputs": [
    {
     "data": {
      "text/plain": [
       "Medicine_ID             object\n",
       "Active_Since             int64\n",
       "Medicine_MRP           float64\n",
       "Availability_rating    float64\n",
       "Counterfeit_Sales      float64\n",
       "0                      float64\n",
       "1                      float64\n",
       "2                      float64\n",
       "3                      float64\n",
       "4                      float64\n",
       "5                      float64\n",
       "6                      float64\n",
       "7                      float64\n",
       "8                      float64\n",
       "9                      float64\n",
       "10                     float64\n",
       "11                     float64\n",
       "12                     float64\n",
       "13                     float64\n",
       "14                     float64\n",
       "15                     float64\n",
       "16                     float64\n",
       "17                     float64\n",
       "18                     float64\n",
       "19                     float64\n",
       "20                     float64\n",
       "21                     float64\n",
       "22                     float64\n",
       "23                     float64\n",
       "24                     float64\n",
       "25                     float64\n",
       "26                     float64\n",
       "27                     float64\n",
       "28                     float64\n",
       "29                     float64\n",
       "30                     float64\n",
       "31                     float64\n",
       "32                     float64\n",
       "33                     float64\n",
       "dtype: object"
      ]
     },
     "execution_count": 33,
     "metadata": {},
     "output_type": "execute_result"
    }
   ],
   "source": [
    "bd_train.dtypes"
   ]
  },
  {
   "cell_type": "code",
   "execution_count": 36,
   "id": "87e6b9b0",
   "metadata": {},
   "outputs": [],
   "source": [
    "x_train.drop('Medicine_ID',inplace=True,axis=1)"
   ]
  },
  {
   "cell_type": "code",
   "execution_count": 37,
   "id": "2f2ffcbb",
   "metadata": {},
   "outputs": [
    {
     "data": {
      "text/plain": [
       "Active_Since             int64\n",
       "Medicine_MRP           float64\n",
       "Availability_rating    float64\n",
       "0                      float64\n",
       "1                      float64\n",
       "2                      float64\n",
       "3                      float64\n",
       "4                      float64\n",
       "5                      float64\n",
       "6                      float64\n",
       "7                      float64\n",
       "8                      float64\n",
       "9                      float64\n",
       "10                     float64\n",
       "11                     float64\n",
       "12                     float64\n",
       "13                     float64\n",
       "14                     float64\n",
       "15                     float64\n",
       "16                     float64\n",
       "17                     float64\n",
       "18                     float64\n",
       "19                     float64\n",
       "20                     float64\n",
       "21                     float64\n",
       "22                     float64\n",
       "23                     float64\n",
       "24                     float64\n",
       "25                     float64\n",
       "26                     float64\n",
       "27                     float64\n",
       "28                     float64\n",
       "29                     float64\n",
       "30                     float64\n",
       "31                     float64\n",
       "32                     float64\n",
       "33                     float64\n",
       "dtype: object"
      ]
     },
     "execution_count": 37,
     "metadata": {},
     "output_type": "execute_result"
    }
   ],
   "source": [
    "x_train.dtypes"
   ]
  },
  {
   "cell_type": "code",
   "execution_count": 38,
   "id": "dc470269",
   "metadata": {},
   "outputs": [
    {
     "data": {
      "text/plain": [
       "dtype('float64')"
      ]
     },
     "execution_count": 38,
     "metadata": {},
     "output_type": "execute_result"
    }
   ],
   "source": [
    "y_train.dtypes"
   ]
  },
  {
   "cell_type": "code",
   "execution_count": 39,
   "id": "fe8889b1",
   "metadata": {},
   "outputs": [
    {
     "name": "stdout",
     "output_type": "stream",
     "text": [
      "Fitting 10 folds for each of 10 candidates, totalling 100 fits\n"
     ]
    },
    {
     "data": {
      "text/plain": [
       "RandomizedSearchCV(cv=10, estimator=RandomForestRegressor(), n_jobs=-1,\n",
       "                   param_distributions={'bootstrap': [True, False],\n",
       "                                        'max_depth': [None, 5, 10, 15, 20, 30,\n",
       "                                                      50, 70],\n",
       "                                        'max_features': [2, 4, 5, 6, 8],\n",
       "                                        'min_samples_leaf': [1, 2, 5, 10, 15,\n",
       "                                                             20],\n",
       "                                        'min_samples_split': [2, 5, 10, 15, 20],\n",
       "                                        'n_estimators': [50, 100, 200]},\n",
       "                   scoring='neg_mean_absolute_error', verbose=20)"
      ]
     },
     "execution_count": 39,
     "metadata": {},
     "output_type": "execute_result"
    }
   ],
   "source": [
    "n_iter_search = 10\n",
    "random_search=RandomizedSearchCV(reg,\n",
    "                                 cv=10,\n",
    "                                 param_distributions=param_dist,\n",
    "                                 scoring='neg_mean_absolute_error',\n",
    "                                 n_iter=10,n_jobs=-1,verbose=20\n",
    "                                    )\n",
    "\n",
    "random_search.fit(x_train,y_train)"
   ]
  },
  {
   "cell_type": "code",
   "execution_count": 40,
   "id": "2bf95997",
   "metadata": {},
   "outputs": [
    {
     "data": {
      "text/plain": [
       "RandomForestRegressor(max_depth=10, max_features=8, min_samples_split=20,\n",
       "                      n_estimators=50)"
      ]
     },
     "execution_count": 40,
     "metadata": {},
     "output_type": "execute_result"
    }
   ],
   "source": [
    "random_search.best_estimator_"
   ]
  },
  {
   "cell_type": "code",
   "execution_count": 41,
   "id": "392a0043",
   "metadata": {},
   "outputs": [],
   "source": [
    "def report(results, n_top=3):\n",
    "    for i in range(1, n_top + 1):\n",
    "        candidates = np.flatnonzero(results['rank_test_score'] == i)\n",
    "        for candidate in candidates:\n",
    "            print(\"Model with rank: {0}\".format(i))\n",
    "            print(\"Mean validation score: {0:.5f} (std: {1:.5f})\".format(\n",
    "                  results['mean_test_score'][candidate],\n",
    "                  results['std_test_score'][candidate]))\n",
    "            print(\"Parameters: {0}\".format(results['params'][candidate]))\n",
    "            print(\"\")"
   ]
  },
  {
   "cell_type": "code",
   "execution_count": 42,
   "id": "e425ce62",
   "metadata": {},
   "outputs": [
    {
     "name": "stdout",
     "output_type": "stream",
     "text": [
      "Model with rank: 1\n",
      "Mean validation score: -782.28558 (std: 25.29141)\n",
      "Parameters: {'n_estimators': 50, 'min_samples_split': 20, 'min_samples_leaf': 1, 'max_features': 8, 'max_depth': 10, 'bootstrap': True}\n",
      "\n",
      "Model with rank: 2\n",
      "Mean validation score: -805.17730 (std: 23.90852)\n",
      "Parameters: {'n_estimators': 100, 'min_samples_split': 10, 'min_samples_leaf': 2, 'max_features': 6, 'max_depth': 10, 'bootstrap': True}\n",
      "\n",
      "Model with rank: 3\n",
      "Mean validation score: -826.33192 (std: 21.10114)\n",
      "Parameters: {'n_estimators': 100, 'min_samples_split': 5, 'min_samples_leaf': 10, 'max_features': 4, 'max_depth': 50, 'bootstrap': False}\n",
      "\n",
      "Model with rank: 4\n",
      "Mean validation score: -829.94774 (std: 29.77815)\n",
      "Parameters: {'n_estimators': 50, 'min_samples_split': 20, 'min_samples_leaf': 15, 'max_features': 5, 'max_depth': None, 'bootstrap': True}\n",
      "\n",
      "Model with rank: 5\n",
      "Mean validation score: -852.36976 (std: 30.75666)\n",
      "Parameters: {'n_estimators': 50, 'min_samples_split': 10, 'min_samples_leaf': 5, 'max_features': 4, 'max_depth': 10, 'bootstrap': True}\n",
      "\n",
      "Model with rank: 6\n",
      "Mean validation score: -858.95798 (std: 30.93577)\n",
      "Parameters: {'n_estimators': 200, 'min_samples_split': 2, 'min_samples_leaf': 2, 'max_features': 8, 'max_depth': 5, 'bootstrap': True}\n",
      "\n",
      "Model with rank: 7\n",
      "Mean validation score: -931.15857 (std: 32.61314)\n",
      "Parameters: {'n_estimators': 100, 'min_samples_split': 20, 'min_samples_leaf': 15, 'max_features': 5, 'max_depth': 5, 'bootstrap': True}\n",
      "\n",
      "Model with rank: 8\n",
      "Mean validation score: -948.64851 (std: 31.21891)\n",
      "Parameters: {'n_estimators': 200, 'min_samples_split': 10, 'min_samples_leaf': 15, 'max_features': 2, 'max_depth': 15, 'bootstrap': True}\n",
      "\n",
      "Model with rank: 9\n",
      "Mean validation score: -966.25735 (std: 29.81580)\n",
      "Parameters: {'n_estimators': 100, 'min_samples_split': 10, 'min_samples_leaf': 20, 'max_features': 2, 'max_depth': 30, 'bootstrap': True}\n",
      "\n",
      "Model with rank: 10\n",
      "Mean validation score: -1079.09679 (std: 32.50801)\n",
      "Parameters: {'n_estimators': 200, 'min_samples_split': 20, 'min_samples_leaf': 15, 'max_features': 2, 'max_depth': 5, 'bootstrap': True}\n",
      "\n"
     ]
    }
   ],
   "source": [
    "report(random_search.cv_results_,10)"
   ]
  },
  {
   "cell_type": "code",
   "execution_count": 43,
   "id": "a2d84bfb",
   "metadata": {},
   "outputs": [],
   "source": [
    "reg_random_forest_best=RandomForestRegressor(n_estimators = 100,min_samples_split = 5,min_samples_leaf = 10,max_features=4,\n",
    "                                             max_depth = 50,bootstrap = False)"
   ]
  },
  {
   "cell_type": "code",
   "execution_count": 44,
   "id": "88f58633",
   "metadata": {},
   "outputs": [
    {
     "data": {
      "text/plain": [
       "RandomForestRegressor(bootstrap=False, max_depth=50, max_features=4,\n",
       "                      min_samples_leaf=10, min_samples_split=5)"
      ]
     },
     "execution_count": 44,
     "metadata": {},
     "output_type": "execute_result"
    }
   ],
   "source": [
    "reg_random_forest_best.fit(x_train,y_train)"
   ]
  },
  {
   "cell_type": "code",
   "execution_count": 45,
   "id": "8fd2ef46",
   "metadata": {},
   "outputs": [
    {
     "data": {
      "text/plain": [
       "746.2062059602814"
      ]
     },
     "execution_count": 45,
     "metadata": {},
     "output_type": "execute_result"
    }
   ],
   "source": [
    "from sklearn.metrics import r2_score,mean_absolute_error,mean_squared_error\n",
    "pred_on_trng_data = reg_random_forest_best.predict(x_train)\n",
    "mean_absolute_error(y_train,pred_on_trng_data)"
   ]
  },
  {
   "cell_type": "code",
   "execution_count": null,
   "id": "850b162d",
   "metadata": {},
   "outputs": [],
   "source": [
    "\n",
    "submissions=pd.DataFrame({'Hazard':reg_random_forest_best.predict(ld_test2)})\n",
    "submissions.to_csv('attempt3_submission_shrabana1.csv',index=False)"
   ]
  },
  {
   "cell_type": "code",
   "execution_count": 46,
   "id": "fc02bf46",
   "metadata": {},
   "outputs": [
    {
     "data": {
      "text/plain": [
       "Medicine_ID             object\n",
       "Active_Since             int64\n",
       "Medicine_MRP           float64\n",
       "Availability_rating    float64\n",
       "0                      float64\n",
       "1                      float64\n",
       "2                      float64\n",
       "3                      float64\n",
       "4                      float64\n",
       "5                      float64\n",
       "6                      float64\n",
       "7                      float64\n",
       "8                      float64\n",
       "9                      float64\n",
       "10                     float64\n",
       "11                     float64\n",
       "12                     float64\n",
       "13                     float64\n",
       "14                     float64\n",
       "15                     float64\n",
       "16                     float64\n",
       "17                     float64\n",
       "18                     float64\n",
       "19                     float64\n",
       "20                     float64\n",
       "21                     float64\n",
       "22                     float64\n",
       "23                     float64\n",
       "24                     float64\n",
       "25                     float64\n",
       "26                     float64\n",
       "27                     float64\n",
       "28                     float64\n",
       "29                     float64\n",
       "30                     float64\n",
       "31                     float64\n",
       "32                     float64\n",
       "33                     float64\n",
       "dtype: object"
      ]
     },
     "execution_count": 46,
     "metadata": {},
     "output_type": "execute_result"
    }
   ],
   "source": [
    "bd_test.dtypes"
   ]
  },
  {
   "cell_type": "code",
   "execution_count": 47,
   "id": "34aa2ab3",
   "metadata": {},
   "outputs": [],
   "source": [
    "bd_test.drop('Medicine_ID',inplace=True,axis=1)"
   ]
  },
  {
   "cell_type": "code",
   "execution_count": 49,
   "id": "f79016cb",
   "metadata": {},
   "outputs": [],
   "source": [
    "submissions1=pd.DataFrame({target:reg_random_forest_best.predict(bd_test)})"
   ]
  },
  {
   "cell_type": "code",
   "execution_count": 50,
   "id": "5145be4f",
   "metadata": {},
   "outputs": [],
   "source": [
    "submissions2=pd.DataFrame({'Medicine_Id':Id})"
   ]
  },
  {
   "cell_type": "code",
   "execution_count": 51,
   "id": "400f12d2",
   "metadata": {},
   "outputs": [],
   "source": [
    "submissions=submissions2.join(submissions1)"
   ]
  },
  {
   "cell_type": "code",
   "execution_count": 52,
   "id": "815e235d",
   "metadata": {},
   "outputs": [],
   "source": [
    "submissions.to_csv('shrabana_submission_attempt1.csv',index=False)"
   ]
  },
  {
   "cell_type": "code",
   "execution_count": null,
   "id": "bf04ad20",
   "metadata": {},
   "outputs": [],
   "source": [
    "submission=pd.DataFrame()"
   ]
  },
  {
   "cell_type": "code",
   "execution_count": null,
   "id": "34cf4372",
   "metadata": {},
   "outputs": [],
   "source": [
    "submission['Medicine_Id']=Id"
   ]
  },
  {
   "cell_type": "code",
   "execution_count": null,
   "id": "aa239225",
   "metadata": {},
   "outputs": [],
   "source": [
    "submission[target]=grid_search.predict(bd_test)"
   ]
  },
  {
   "cell_type": "code",
   "execution_count": null,
   "id": "047baf82",
   "metadata": {},
   "outputs": [],
   "source": [
    "bd_test.shape"
   ]
  },
  {
   "cell_type": "code",
   "execution_count": null,
   "id": "54db8b2f",
   "metadata": {},
   "outputs": [],
   "source": [
    "bd_train[target].columns().sum()"
   ]
  },
  {
   "cell_type": "code",
   "execution_count": null,
   "id": "01b9f926",
   "metadata": {},
   "outputs": [],
   "source": [
    "submission.shape"
   ]
  },
  {
   "cell_type": "code",
   "execution_count": null,
   "id": "93a8af68",
   "metadata": {},
   "outputs": [],
   "source": [
    "ld_test['Medicine_Id']"
   ]
  },
  {
   "cell_type": "code",
   "execution_count": null,
   "id": "7a8b0e37",
   "metadata": {},
   "outputs": [],
   "source": []
  }
 ],
 "metadata": {
  "kernelspec": {
   "display_name": "Python 3",
   "language": "python",
   "name": "python3"
  },
  "language_info": {
   "codemirror_mode": {
    "name": "ipython",
    "version": 3
   },
   "file_extension": ".py",
   "mimetype": "text/x-python",
   "name": "python",
   "nbconvert_exporter": "python",
   "pygments_lexer": "ipython3",
   "version": "3.8.8"
  }
 },
 "nbformat": 4,
 "nbformat_minor": 5
}
